{
 "cells": [
  {
   "cell_type": "markdown",
   "id": "4af45b9c-85af-4539-9a1c-e1ca8cf8a834",
   "metadata": {},
   "source": [
    "# CS 445 Course Project"
   ]
  },
  {
   "cell_type": "markdown",
   "id": "80cc9825-2477-443b-8454-7a55a3c8d729",
   "metadata": {},
   "source": [
    "## Setup"
   ]
  },
  {
   "cell_type": "code",
   "execution_count": null,
   "id": "e7edcd75-f95b-4b6a-8dc9-2f2b60fc654c",
   "metadata": {},
   "outputs": [],
   "source": [
    "import cv2\n",
    "import numpy as np\n",
    "import matplotlib.pyplot as plt\n",
    "import os\n",
    "from scipy.spatial import Delaunay"
   ]
  },
  {
   "cell_type": "code",
   "execution_count": null,
   "id": "d3abce95-48e1-4f50-8fc4-2685ba7b6854",
   "metadata": {},
   "outputs": [],
   "source": [
    "# #Brayden\n",
    "datadir = \"/Users/braydenturner/projects/MCS/cs445/course_project/\" "
   ]
  },
  {
   "cell_type": "code",
   "execution_count": null,
   "id": "d52896b8",
   "metadata": {},
   "outputs": [],
   "source": [
    "# #Caleb\n",
    "# datadir = \"./CS445_CourseProject\""
   ]
  },
  {
   "cell_type": "code",
   "execution_count": null,
   "id": "80d668fd-9cca-41e7-9f9c-9e495f9c15a2",
   "metadata": {},
   "outputs": [],
   "source": [
    "# %matplotlib notebook\n",
    "%matplotlib widget"
   ]
  },
  {
   "cell_type": "markdown",
   "id": "37607e73-5256-48ca-b4f8-233338be2b48",
   "metadata": {},
   "source": [
    "# Load Images"
   ]
  },
  {
   "cell_type": "code",
   "execution_count": null,
   "id": "303b2d78-94d5-4144-bd92-360be36673a9",
   "metadata": {},
   "outputs": [],
   "source": [
    "class Image:\n",
    "    def __init__(self, path):\n",
    "        self.image = cv2.cvtColor(cv2.imread(path), cv2.COLOR_BGR2RGB).astype('double') / 255.0"
   ]
  },
  {
   "cell_type": "code",
   "execution_count": null,
   "id": "70e65c63-aa1d-4528-b3ef-dbaab4fed844",
   "metadata": {},
   "outputs": [],
   "source": [
    "img1 = Image('images/male.jpg') \n",
    "img2 = Image('images/female.jpg')"
   ]
  },
  {
   "cell_type": "markdown",
   "id": "7ab67680-1209-4f13-970d-1a7ff8259ef8",
   "metadata": {},
   "source": [
    "## Point Correspondence"
   ]
  },
  {
   "cell_type": "code",
   "execution_count": null,
   "id": "6d6cf1b9-4326-43ff-9f66-95f7a3841841",
   "metadata": {},
   "outputs": [],
   "source": [
    "def specify_corresponding_points(img, clicked = None):\n",
    "    '''\n",
    "    img: input image\n",
    "    clicked: ??\n",
    "    return: clicked: Array of shape 2xP (number of points clicked)\n",
    "            clicked[0]: array of length P containing the x coordinates\n",
    "            clicked[1]: array of length P contraining y coordinates\n",
    "    '''\n",
    "    fig = plt.figure()\n",
    "    if clicked:\n",
    "        num = len(clicked[0])\n",
    "        fig.set_label(f'Choose {num} corresponding points on image. Press q to quit')\n",
    "    else:\n",
    "        fig.set_label('Choose points on image. Press q to quit')\n",
    "    plt.axis('off')\n",
    "    plt.imshow(img)\n",
    "    xs = []\n",
    "    ys = []\n",
    "    clicked = [] #CONCERN: Do we want this to be nested in the if clicked statement? \n",
    "#                          #or is the goal to reset the clicked array?\n",
    "\n",
    "    def on_mouse_pressed(event):\n",
    "        x = event.xdata\n",
    "        y = event.ydata\n",
    "        xs.append(x)\n",
    "        ys.append(y)\n",
    "        \n",
    "        counter = len(xs)\n",
    "        \n",
    "        plt.plot(x, y, \"r+\")\n",
    "        plt.text(x + 5, y + 5, counter, color=\"red\")\n",
    "\n",
    "    def onclose(event):\n",
    "        clicked.append(xs)\n",
    "        clicked.append(ys)\n",
    "        \n",
    "    def key_press(event):\n",
    "        if event.key == 'q':\n",
    "            print(\"Quitting\")\n",
    "            clicked.append(xs)\n",
    "            clicked.append(ys)\n",
    "            plt.close(fig)\n",
    "            \n",
    "        \n",
    "        \n",
    "    # Create an hard reference to the callback not to be cleared by the garbage\n",
    "    # collector\n",
    "    fig.canvas.mpl_connect('button_press_event', on_mouse_pressed)\n",
    "    fig.canvas.mpl_connect('close_event', onclose)\n",
    "    fig.canvas.mpl_connect('key_press_event', key_press)\n",
    "    return clicked"
   ]
  },
  {
   "cell_type": "code",
   "execution_count": null,
   "id": "6a96c4d3-65cb-4073-b535-827eda82e01c",
   "metadata": {
    "scrolled": true
   },
   "outputs": [],
   "source": [
    "img1.pts = specify_corresponding_points(img1.image)"
   ]
  },
  {
   "cell_type": "code",
   "execution_count": null,
   "id": "306d5f3c-752b-473d-a9cb-0308773f5103",
   "metadata": {},
   "outputs": [],
   "source": [
    "img2.pts = specify_corresponding_points(img2.image, img1.pts)"
   ]
  },
  {
   "cell_type": "code",
   "execution_count": null,
   "id": "84b6b2e7-3754-43bf-8d48-a2553a9ed081",
   "metadata": {},
   "outputs": [],
   "source": [
    "# Assert we have equal number of points\n",
    "assert len(img1.pts) == len(img2.pts) and len(img1.pts[0]) == len(img2.pts[0])  and len(img1.pts[1]) == len(img2.pts[1])"
   ]
  },
  {
   "cell_type": "markdown",
   "id": "2eab638f-d389-4d79-8dd1-3fcd06a7c682",
   "metadata": {},
   "source": [
    "## Triangulation Mesh"
   ]
  },
  {
   "cell_type": "code",
   "execution_count": null,
   "id": "9586aabe-e34e-43fa-aad2-b91ac975a91a",
   "metadata": {},
   "outputs": [],
   "source": [
    "# convert to list of (x,y) touples for each point for use in scipy.spatial.Delaunay()\n",
    "def toPtArray(pts, h, w):\n",
    "    numPts = len(pts[0])\n",
    "    points = np.zeros((numPts + 4, 2)) # add 4 points for 4 corners\n",
    "    print(numPts)\n",
    "    for i in range(len(pts[1])):\n",
    "        points[i][0] = pts[0][i]\n",
    "        points[i][1] = pts[1][i]\n",
    "\n",
    "    #Add the 4 corners\n",
    "    points[numPts][0] = 0\n",
    "    points[numPts][1] = 0\n",
    "    points[numPts+1][0] = 0\n",
    "    points[numPts+1][1] = h\n",
    "    points[numPts+2][0] = w\n",
    "    points[numPts+2][1] = 0\n",
    "    points[numPts+3][0] = w\n",
    "    points[numPts+3][1] = h\n",
    "    return points"
   ]
  },
  {
   "cell_type": "code",
   "execution_count": null,
   "id": "1c7aaf6e",
   "metadata": {},
   "outputs": [],
   "source": [
    "# print(img1.pts)"
   ]
  },
  {
   "cell_type": "code",
   "execution_count": null,
   "id": "58bd6425",
   "metadata": {},
   "outputs": [],
   "source": [
    "pts1 = toPtArray(img1.pts, img1.image.shape[0], img1.image.shape[1])\n",
    "pts2 = toPtArray(img2.pts, img2.image.shape[0], img2.image.shape[1])\n"
   ]
  },
  {
   "cell_type": "code",
   "execution_count": null,
   "id": "db0b4fda",
   "metadata": {},
   "outputs": [],
   "source": [
    "tri1 = Delaunay(pts1)\n",
    "\n",
    "# tri2 = Delaunay(pts2)"
   ]
  },
  {
   "cell_type": "code",
   "execution_count": null,
   "id": "45952553",
   "metadata": {
    "scrolled": false
   },
   "outputs": [],
   "source": [
    "fig1 = plt.figure()\n",
    "plt.imshow(img1.image)\n",
    "plt.triplot(pts1[:,0], pts1[:,1], tri1.simplices)\n",
    "plt.plot(pts1[:,0], pts1[:,1], 'o')\n",
    "plt.axis('off')\n",
    "plt.show()"
   ]
  },
  {
   "cell_type": "markdown",
   "id": "fd7c77a6",
   "metadata": {},
   "source": [
    "The pts in pts1 and pts2 will be matched up so long as when clicking the points they are tagged in corresponding order. By simply taking the Delaunay of the first image and using those same simplices with the points for imag 2 we have a matching triangle mesh for both images. "
   ]
  },
  {
   "cell_type": "code",
   "execution_count": null,
   "id": "c38f507c",
   "metadata": {
    "scrolled": false
   },
   "outputs": [],
   "source": [
    "fig2 = plt.figure()\n",
    "plt.imshow(img2.image)\n",
    "#only change here is changed tri2 to tri1 below in order to get matching pt-triangle meshes.\n",
    "plt.triplot(pts2[:,0], pts2[:,1], tri1.simplices)\n",
    "plt.plot(pts2[:,0], pts2[:,1], 'o')\n",
    "plt.axis('off')\n",
    "plt.show()"
   ]
  },
  {
   "cell_type": "code",
   "execution_count": null,
   "id": "0b8752bb",
   "metadata": {},
   "outputs": [],
   "source": []
  },
  {
   "cell_type": "code",
   "execution_count": null,
   "id": "8e4d42eb",
   "metadata": {},
   "outputs": [],
   "source": [
    "pts1.shape"
   ]
  },
  {
   "cell_type": "markdown",
   "id": "6da556bd",
   "metadata": {},
   "source": [
    "The different attributes of the Delaunay can be found here: \n",
    "https://docs.scipy.org/doc/scipy/reference/generated/scipy.spatial.Delaunay.html\n",
    "What we still need to do is create some sort of correlation between the triangles of one and the triangles of the other according to Lect. 6.1.3 time: 4:39\n",
    "That is probably easiest if we choose images with high correspondance to start "
   ]
  },
  {
   "cell_type": "markdown",
   "id": "15e309bc",
   "metadata": {},
   "source": [
    "Lecture notes (Apparently everyone is stealing the same stuff from Efros): \n",
    "https://www.seas.upenn.edu/~cse399b/Lectures/CSE399b-07-triangle.pdf"
   ]
  },
  {
   "cell_type": "markdown",
   "id": "0bc24052-bc43-4f2e-bd31-4d10e0a672eb",
   "metadata": {},
   "source": [
    "## Linear Interpolation"
   ]
  },
  {
   "cell_type": "markdown",
   "id": "62e2302b",
   "metadata": {},
   "source": [
    "Equation for linear interpolation: P + t * (Q-P) : 0 < t < 1"
   ]
  },
  {
   "cell_type": "code",
   "execution_count": null,
   "id": "a2239355-6ed4-4703-b11d-0e15691ea9ec",
   "metadata": {},
   "outputs": [],
   "source": [
    "def lin_intepolate(pts1, pts2, n_steps):\n",
    "    '''\n",
    "    Takes pt locations for image1 and image2, and number of steps desired and \n",
    "    returns an array containing each point at each step in the linear interpolation\n",
    "    \n",
    "inputs:\n",
    "    pts1:     array- size: num_points x 2 - array containing 2D locs. starting point of each linear interpolation\n",
    "    pts2:     array- size: num_points x 2 - array containing 2D locs. end point of each linear interpolation\n",
    "    n_steps:  int: indicating number of steps along linear path for each point\n",
    "return: \n",
    "    l_interp: array- size: n_steps x num_points x 2 \n",
    "    [step_number, pt_number, x or y]\n",
    "    '''\n",
    "    assert n_steps > 1\n",
    "    num_pts, _ = pts1.shape\n",
    "    l_interp = np.zeros((n_steps, num_pts,2))\n",
    "    for j in range(num_pts):\n",
    "        for xy in range(2):\n",
    "            p1 = pts1[j,xy]\n",
    "            p2 = pts2[j,xy]\n",
    "            for i in range(n_steps):\n",
    "                l_interp[i,j,xy] = p1 + (p2 - p1) * (i / (n_steps-1))\n",
    "                \n",
    "            \n",
    "    return l_interp"
   ]
  },
  {
   "cell_type": "code",
   "execution_count": null,
   "id": "9acc4098",
   "metadata": {},
   "outputs": [],
   "source": [
    "l = lin_intepolate(pts1, pts2, 5)"
   ]
  },
  {
   "cell_type": "code",
   "execution_count": null,
   "id": "31f5821e",
   "metadata": {
    "scrolled": true
   },
   "outputs": [],
   "source": [
    "test1 = np.arange(0,20).reshape(10,2)\n",
    "print(test1)\n",
    "test2 = np.arange(2,22).reshape(10,2)\n",
    "print(test2)\n"
   ]
  },
  {
   "cell_type": "code",
   "execution_count": null,
   "id": "706fbea5",
   "metadata": {
    "scrolled": true
   },
   "outputs": [],
   "source": [
    "lin_intepolate(test1,test2, 2)"
   ]
  },
  {
   "cell_type": "code",
   "execution_count": null,
   "id": "ee8a49eb",
   "metadata": {
    "scrolled": true
   },
   "outputs": [],
   "source": [
    "lin_intepolate(test1,test2, 3)"
   ]
  },
  {
   "cell_type": "code",
   "execution_count": null,
   "id": "f6d84678",
   "metadata": {
    "scrolled": true
   },
   "outputs": [],
   "source": [
    "lin_intepolate(test1,test2, 4)"
   ]
  },
  {
   "cell_type": "code",
   "execution_count": null,
   "id": "03b31911",
   "metadata": {
    "scrolled": true
   },
   "outputs": [],
   "source": [
    "lin_intepolate(test1,test2, 5)"
   ]
  },
  {
   "cell_type": "markdown",
   "id": "b8dd4313-1b52-47dd-a444-6addfbe8948d",
   "metadata": {},
   "source": [
    "## Affine Transformation"
   ]
  },
  {
   "cell_type": "code",
   "execution_count": null,
   "id": "d868bfd3-63f6-40b2-8eba-a14e12a3a62d",
   "metadata": {},
   "outputs": [],
   "source": []
  },
  {
   "cell_type": "markdown",
   "id": "11327733-4d5e-4665-804f-86cf42df489c",
   "metadata": {},
   "source": [
    "## Tie It All Together"
   ]
  },
  {
   "cell_type": "code",
   "execution_count": null,
   "id": "1934f858-3a03-40f1-a97b-39fa367acc59",
   "metadata": {},
   "outputs": [],
   "source": []
  }
 ],
 "metadata": {
  "kernelspec": {
   "display_name": "Python 3 (ipykernel)",
   "language": "python",
   "name": "python3"
  },
  "language_info": {
   "codemirror_mode": {
    "name": "ipython",
    "version": 3
   },
   "file_extension": ".py",
   "mimetype": "text/x-python",
   "name": "python",
   "nbconvert_exporter": "python",
   "pygments_lexer": "ipython3",
   "version": "3.7.13"
  }
 },
 "nbformat": 4,
 "nbformat_minor": 5
}
