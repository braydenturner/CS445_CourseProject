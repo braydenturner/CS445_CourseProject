{
 "cells": [
  {
   "cell_type": "markdown",
   "id": "4af45b9c-85af-4539-9a1c-e1ca8cf8a834",
   "metadata": {},
   "source": [
    "# CS 445 Course Project"
   ]
  },
  {
   "cell_type": "markdown",
   "id": "80cc9825-2477-443b-8454-7a55a3c8d729",
   "metadata": {},
   "source": [
    "## Setup"
   ]
  },
  {
   "cell_type": "code",
   "execution_count": null,
   "id": "e7edcd75-f95b-4b6a-8dc9-2f2b60fc654c",
   "metadata": {},
   "outputs": [],
   "source": []
  },
  {
   "cell_type": "markdown",
   "id": "7ab67680-1209-4f13-970d-1a7ff8259ef8",
   "metadata": {},
   "source": [
    "## Point Correspondence"
   ]
  },
  {
   "cell_type": "code",
   "execution_count": null,
   "id": "6d6cf1b9-4326-43ff-9f66-95f7a3841841",
   "metadata": {},
   "outputs": [],
   "source": []
  },
  {
   "cell_type": "markdown",
   "id": "2eab638f-d389-4d79-8dd1-3fcd06a7c682",
   "metadata": {},
   "source": [
    "## Triangulation Mesh"
   ]
  },
  {
   "cell_type": "code",
   "execution_count": null,
   "id": "9586aabe-e34e-43fa-aad2-b91ac975a91a",
   "metadata": {},
   "outputs": [],
   "source": []
  },
  {
   "cell_type": "markdown",
   "id": "0bc24052-bc43-4f2e-bd31-4d10e0a672eb",
   "metadata": {},
   "source": [
    "## Linear Interpolation"
   ]
  },
  {
   "cell_type": "code",
   "execution_count": null,
   "id": "a2239355-6ed4-4703-b11d-0e15691ea9ec",
   "metadata": {},
   "outputs": [],
   "source": []
  },
  {
   "cell_type": "markdown",
   "id": "b8dd4313-1b52-47dd-a444-6addfbe8948d",
   "metadata": {},
   "source": [
    "## Affine Transformation"
   ]
  },
  {
   "cell_type": "code",
   "execution_count": null,
   "id": "d868bfd3-63f6-40b2-8eba-a14e12a3a62d",
   "metadata": {},
   "outputs": [],
   "source": []
  },
  {
   "cell_type": "markdown",
   "id": "11327733-4d5e-4665-804f-86cf42df489c",
   "metadata": {},
   "source": [
    "## Tie It All Together"
   ]
  },
  {
   "cell_type": "code",
   "execution_count": null,
   "id": "1934f858-3a03-40f1-a97b-39fa367acc59",
   "metadata": {},
   "outputs": [],
   "source": []
  }
 ],
 "metadata": {
  "kernelspec": {
   "display_name": "Python 3 (ipykernel)",
   "language": "python",
   "name": "python3"
  },
  "language_info": {
   "codemirror_mode": {
    "name": "ipython",
    "version": 3
   },
   "file_extension": ".py",
   "mimetype": "text/x-python",
   "name": "python",
   "nbconvert_exporter": "python",
   "pygments_lexer": "ipython3",
   "version": "3.9.10"
  }
 },
 "nbformat": 4,
 "nbformat_minor": 5
}
